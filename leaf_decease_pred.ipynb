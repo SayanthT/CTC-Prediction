{
  "nbformat": 4,
  "nbformat_minor": 0,
  "metadata": {
    "colab": {
      "provenance": [],
      "mount_file_id": "1ph20X9SbUWORorU2TkDAZtapCINu1Msa",
      "authorship_tag": "ABX9TyMu7PQHQqp2seyNhSzj9uNH",
      "include_colab_link": true
    },
    "kernelspec": {
      "name": "python3",
      "display_name": "Python 3"
    },
    "language_info": {
      "name": "python"
    },
    "accelerator": "GPU",
    "gpuClass": "standard"
  },
  "cells": [
    {
      "cell_type": "markdown",
      "metadata": {
        "id": "view-in-github",
        "colab_type": "text"
      },
      "source": [
        "<a href=\"https://colab.research.google.com/github/SayanthT/CTC-Prediction/blob/main/leaf_decease_pred.ipynb\" target=\"_parent\"><img src=\"https://colab.research.google.com/assets/colab-badge.svg\" alt=\"Open In Colab\"/></a>"
      ]
    },
    {
      "cell_type": "code",
      "execution_count": 4,
      "metadata": {
        "id": "nYrrfdGQoTqC"
      },
      "outputs": [],
      "source": [
        "#import Keras packages\n",
        "import warnings\n",
        "warnings.filterwarnings('ignore')\n",
        "from keras.models import Sequential\n",
        "from keras.layers import Convolution2D\n",
        "from keras.layers import MaxPooling2D\n",
        "from keras.layers import Flatten\n",
        "from keras.layers import Dense\n",
        "import numpy as np"
      ]
    },
    {
      "cell_type": "code",
      "source": [
        "# Initializing the CNN\n",
        "\n",
        "np.random.seed(1337)\n",
        "classifier = Sequential()\n",
        "\n",
        "classifier.add(Convolution2D(32, 3, 3, input_shape = (128, 128, 3), activation = 'relu'))\n",
        "classifier.add(MaxPooling2D(pool_size = (2, 2)))\n",
        "classifier.add(Convolution2D(16, 3, 3, activation = 'relu'))\n",
        "classifier.add(MaxPooling2D(pool_size = (2, 2)))\n",
        "\n",
        "#flattening\n",
        "classifier.add(Flatten())\n",
        "\n",
        "#hidden layer\n",
        "classifier.add(Dense(128, activation = 'relu'))\n",
        "\n",
        "\n",
        "#output layer\n",
        "classifier.add(Dense(10, activation = 'softmax'))\n",
        "\n",
        "classifier.compile(optimizer = 'adam', loss = 'categorical_crossentropy', metrics = ['accuracy'])\n",
        "print(classifier.summary())\n"
      ],
      "metadata": {
        "colab": {
          "base_uri": "https://localhost:8080/"
        },
        "id": "h4SV7S1UokKY",
        "outputId": "e530a43b-7b8e-4220-c53e-9ef9d0f4ce2a"
      },
      "execution_count": 5,
      "outputs": [
        {
          "output_type": "stream",
          "name": "stdout",
          "text": [
            "Model: \"sequential\"\n",
            "_________________________________________________________________\n",
            " Layer (type)                Output Shape              Param #   \n",
            "=================================================================\n",
            " conv2d (Conv2D)             (None, 42, 42, 32)        896       \n",
            "                                                                 \n",
            " max_pooling2d (MaxPooling2D  (None, 21, 21, 32)       0         \n",
            " )                                                               \n",
            "                                                                 \n",
            " conv2d_1 (Conv2D)           (None, 7, 7, 16)          4624      \n",
            "                                                                 \n",
            " max_pooling2d_1 (MaxPooling  (None, 3, 3, 16)         0         \n",
            " 2D)                                                             \n",
            "                                                                 \n",
            " flatten (Flatten)           (None, 144)               0         \n",
            "                                                                 \n",
            " dense (Dense)               (None, 128)               18560     \n",
            "                                                                 \n",
            " dense_1 (Dense)             (None, 10)                1290      \n",
            "                                                                 \n",
            "=================================================================\n",
            "Total params: 25,370\n",
            "Trainable params: 25,370\n",
            "Non-trainable params: 0\n",
            "_________________________________________________________________\n",
            "None\n"
          ]
        }
      ]
    },
    {
      "cell_type": "code",
      "source": [
        "# fitting the data set\n",
        "\n",
        "from keras.preprocessing.image import ImageDataGenerator\n",
        "\n",
        "train_datagen = ImageDataGenerator(\n",
        "        rescale=1./255,\n",
        "        shear_range=0.2,\n",
        "        zoom_range=0.2,\n",
        "        horizontal_flip=True)\n",
        "\n",
        "test_datagen = ImageDataGenerator(rescale=1./255)\n",
        "\n",
        "training_set = train_datagen.flow_from_directory(\n",
        "        '/content/drive/MyDrive/tomato/train',\n",
        "        target_size=(128, 128),\n",
        "        batch_size=64,\n",
        "        class_mode='categorical' )\n",
        "label_map = (training_set.class_indices)\n",
        "\n",
        "print(label_map)\n",
        "\n",
        "test_set = test_datagen.flow_from_directory(\n",
        "        '/content/drive/MyDrive/tomato/val',\n",
        "        target_size=(128, 128),\n",
        "        batch_size=64,\n",
        "        class_mode='categorical')"
      ],
      "metadata": {
        "colab": {
          "base_uri": "https://localhost:8080/"
        },
        "id": "gLLgorMGo0da",
        "outputId": "a0c81528-d678-4b54-d3be-a6333d9f965f"
      },
      "execution_count": 6,
      "outputs": [
        {
          "output_type": "stream",
          "name": "stdout",
          "text": [
            "Found 10000 images belonging to 10 classes.\n",
            "{'Tomato___Bacterial_spot': 0, 'Tomato___Early_blight': 1, 'Tomato___Late_blight': 2, 'Tomato___Leaf_Mold': 3, 'Tomato___Septoria_leaf_spot': 4, 'Tomato___Spider_mites Two-spotted_spider_mite': 5, 'Tomato___Target_Spot': 6, 'Tomato___Tomato_Yellow_Leaf_Curl_Virus': 7, 'Tomato___Tomato_mosaic_virus': 8, 'Tomato___healthy': 9}\n",
            "Found 1000 images belonging to 10 classes.\n"
          ]
        }
      ]
    },
    {
      "cell_type": "code",
      "source": [
        "classifier.fit_generator(\n",
        "        training_set,\n",
        "        steps_per_epoch=20,\n",
        "        epochs=100,\n",
        "        validation_data=test_set,\n",
        "        validation_steps=100)\n"
      ],
      "metadata": {
        "colab": {
          "base_uri": "https://localhost:8080/"
        },
        "id": "vwuFwvrho4zJ",
        "outputId": "cd110c14-e1d2-404d-d998-deb19865e3b2"
      },
      "execution_count": 7,
      "outputs": [
        {
          "output_type": "stream",
          "name": "stdout",
          "text": [
            "Epoch 1/100\n",
            "20/20 [==============================] - ETA: 0s - loss: 2.3038 - accuracy: 0.1180 "
          ]
        },
        {
          "output_type": "stream",
          "name": "stderr",
          "text": [
            "WARNING:tensorflow:Your input ran out of data; interrupting training. Make sure that your dataset or generator can generate at least `steps_per_epoch * epochs` batches (in this case, 100 batches). You may need to use the repeat() function when building your dataset.\n"
          ]
        },
        {
          "output_type": "stream",
          "name": "stdout",
          "text": [
            "\b\b\b\b\b\b\b\b\b\b\b\b\b\b\b\b\b\b\b\b\b\b\b\b\b\b\b\b\b\b\b\b\b\b\b\b\b\b\b\b\b\b\b\b\b\b\b\b\b\b\b\b\b\b\b\b\b\b\b\b\b\b\b\b\b\b\b\b\b\b\b\b\b\b\b\b\b\b\b\b\b\b\r20/20 [==============================] - 1673s 85s/step - loss: 2.3038 - accuracy: 0.1180 - val_loss: 2.2915 - val_accuracy: 0.1000\n",
            "Epoch 2/100\n",
            "20/20 [==============================] - 809s 41s/step - loss: 2.2761 - accuracy: 0.1156\n",
            "Epoch 3/100\n",
            "20/20 [==============================] - 624s 31s/step - loss: 2.1859 - accuracy: 0.1891\n",
            "Epoch 4/100\n",
            "20/20 [==============================] - 593s 30s/step - loss: 2.0487 - accuracy: 0.3016\n",
            "Epoch 5/100\n",
            "20/20 [==============================] - 454s 23s/step - loss: 1.9537 - accuracy: 0.3203\n",
            "Epoch 6/100\n",
            "20/20 [==============================] - 428s 21s/step - loss: 1.8989 - accuracy: 0.3352\n",
            "Epoch 7/100\n",
            "20/20 [==============================] - 356s 18s/step - loss: 1.7609 - accuracy: 0.4026\n",
            "Epoch 8/100\n",
            "20/20 [==============================] - 292s 15s/step - loss: 1.6658 - accuracy: 0.4234\n",
            "Epoch 9/100\n",
            "20/20 [==============================] - 268s 14s/step - loss: 1.5516 - accuracy: 0.4797\n",
            "Epoch 10/100\n",
            "20/20 [==============================] - 238s 12s/step - loss: 1.5105 - accuracy: 0.5016\n",
            "Epoch 11/100\n",
            "20/20 [==============================] - 219s 11s/step - loss: 1.4533 - accuracy: 0.5008\n",
            "Epoch 12/100\n",
            "20/20 [==============================] - 158s 8s/step - loss: 1.3936 - accuracy: 0.5453\n",
            "Epoch 13/100\n",
            "20/20 [==============================] - 166s 8s/step - loss: 1.3663 - accuracy: 0.5305\n",
            "Epoch 14/100\n",
            "20/20 [==============================] - 140s 7s/step - loss: 1.2972 - accuracy: 0.5758\n",
            "Epoch 15/100\n",
            "20/20 [==============================] - 129s 6s/step - loss: 1.2583 - accuracy: 0.5695\n",
            "Epoch 16/100\n",
            "20/20 [==============================] - 104s 5s/step - loss: 1.2619 - accuracy: 0.5766\n",
            "Epoch 17/100\n",
            "20/20 [==============================] - 90s 5s/step - loss: 1.1598 - accuracy: 0.6055\n",
            "Epoch 18/100\n",
            "20/20 [==============================] - 86s 4s/step - loss: 1.1124 - accuracy: 0.6203\n",
            "Epoch 19/100\n",
            "20/20 [==============================] - 68s 3s/step - loss: 1.1147 - accuracy: 0.6234\n",
            "Epoch 20/100\n",
            "20/20 [==============================] - 50s 3s/step - loss: 1.1308 - accuracy: 0.6062\n",
            "Epoch 21/100\n",
            "20/20 [==============================] - 53s 3s/step - loss: 1.0908 - accuracy: 0.6227\n",
            "Epoch 22/100\n",
            "20/20 [==============================] - 50s 3s/step - loss: 1.1154 - accuracy: 0.6070\n",
            "Epoch 23/100\n",
            "20/20 [==============================] - 49s 2s/step - loss: 1.0094 - accuracy: 0.6648\n",
            "Epoch 24/100\n",
            "20/20 [==============================] - 40s 2s/step - loss: 0.9919 - accuracy: 0.6766\n",
            "Epoch 25/100\n",
            "20/20 [==============================] - 33s 2s/step - loss: 0.9318 - accuracy: 0.6883\n",
            "Epoch 26/100\n",
            "20/20 [==============================] - 23s 1s/step - loss: 0.9808 - accuracy: 0.6599\n",
            "Epoch 27/100\n",
            "20/20 [==============================] - 25s 1s/step - loss: 0.9917 - accuracy: 0.6414\n",
            "Epoch 28/100\n",
            "20/20 [==============================] - 30s 1s/step - loss: 0.9974 - accuracy: 0.6586\n",
            "Epoch 29/100\n",
            "20/20 [==============================] - 19s 927ms/step - loss: 0.9593 - accuracy: 0.6578\n",
            "Epoch 30/100\n",
            "20/20 [==============================] - 20s 965ms/step - loss: 0.9442 - accuracy: 0.6672\n",
            "Epoch 31/100\n",
            "20/20 [==============================] - 21s 1s/step - loss: 0.9074 - accuracy: 0.6922\n",
            "Epoch 32/100\n",
            "20/20 [==============================] - 22s 1s/step - loss: 0.8849 - accuracy: 0.6953\n",
            "Epoch 33/100\n",
            "20/20 [==============================] - 15s 790ms/step - loss: 0.8413 - accuracy: 0.6953\n",
            "Epoch 34/100\n",
            "20/20 [==============================] - 14s 728ms/step - loss: 0.8683 - accuracy: 0.6961\n",
            "Epoch 35/100\n",
            "20/20 [==============================] - 15s 757ms/step - loss: 0.8238 - accuracy: 0.7117\n",
            "Epoch 36/100\n",
            "20/20 [==============================] - 11s 524ms/step - loss: 0.9053 - accuracy: 0.6844\n",
            "Epoch 37/100\n",
            "20/20 [==============================] - 20s 1s/step - loss: 0.8057 - accuracy: 0.7125\n",
            "Epoch 38/100\n",
            "20/20 [==============================] - 15s 741ms/step - loss: 0.7796 - accuracy: 0.7406\n",
            "Epoch 39/100\n",
            "20/20 [==============================] - 11s 533ms/step - loss: 0.8064 - accuracy: 0.7141\n",
            "Epoch 40/100\n",
            "20/20 [==============================] - 10s 506ms/step - loss: 0.8125 - accuracy: 0.7281\n",
            "Epoch 41/100\n",
            "20/20 [==============================] - 12s 575ms/step - loss: 0.7771 - accuracy: 0.7375\n",
            "Epoch 42/100\n",
            "20/20 [==============================] - 13s 596ms/step - loss: 0.7353 - accuracy: 0.7500\n",
            "Epoch 43/100\n",
            "20/20 [==============================] - 12s 596ms/step - loss: 0.7559 - accuracy: 0.7500\n",
            "Epoch 44/100\n",
            "20/20 [==============================] - 8s 422ms/step - loss: 0.7694 - accuracy: 0.7183\n",
            "Epoch 45/100\n",
            "20/20 [==============================] - 11s 500ms/step - loss: 0.7950 - accuracy: 0.7305\n",
            "Epoch 46/100\n",
            "20/20 [==============================] - 9s 464ms/step - loss: 0.7929 - accuracy: 0.7227\n",
            "Epoch 47/100\n",
            "20/20 [==============================] - 11s 501ms/step - loss: 0.7420 - accuracy: 0.7492\n",
            "Epoch 48/100\n",
            "20/20 [==============================] - 8s 418ms/step - loss: 0.7170 - accuracy: 0.7602\n",
            "Epoch 49/100\n",
            "20/20 [==============================] - 9s 424ms/step - loss: 0.7527 - accuracy: 0.7469\n",
            "Epoch 50/100\n",
            "20/20 [==============================] - 11s 550ms/step - loss: 0.6980 - accuracy: 0.7508\n",
            "Epoch 51/100\n",
            "20/20 [==============================] - 9s 435ms/step - loss: 0.6942 - accuracy: 0.7581\n",
            "Epoch 52/100\n",
            "20/20 [==============================] - 9s 462ms/step - loss: 0.7068 - accuracy: 0.7555\n",
            "Epoch 53/100\n",
            "20/20 [==============================] - 8s 381ms/step - loss: 0.7240 - accuracy: 0.7437\n",
            "Epoch 54/100\n",
            "20/20 [==============================] - 10s 506ms/step - loss: 0.7022 - accuracy: 0.7602\n",
            "Epoch 55/100\n",
            "20/20 [==============================] - 9s 446ms/step - loss: 0.6846 - accuracy: 0.7453\n",
            "Epoch 56/100\n",
            "20/20 [==============================] - 9s 476ms/step - loss: 0.6825 - accuracy: 0.7711\n",
            "Epoch 57/100\n",
            "20/20 [==============================] - 8s 393ms/step - loss: 0.6781 - accuracy: 0.7539\n",
            "Epoch 58/100\n",
            "20/20 [==============================] - 9s 450ms/step - loss: 0.7175 - accuracy: 0.7469\n",
            "Epoch 59/100\n",
            "20/20 [==============================] - 8s 418ms/step - loss: 0.6561 - accuracy: 0.7914\n",
            "Epoch 60/100\n",
            "20/20 [==============================] - 8s 387ms/step - loss: 0.6769 - accuracy: 0.7617\n",
            "Epoch 61/100\n",
            "20/20 [==============================] - 9s 441ms/step - loss: 0.6266 - accuracy: 0.7914\n",
            "Epoch 62/100\n",
            "20/20 [==============================] - 9s 437ms/step - loss: 0.6638 - accuracy: 0.7695\n",
            "Epoch 63/100\n",
            "20/20 [==============================] - 9s 468ms/step - loss: 0.6602 - accuracy: 0.7703\n",
            "Epoch 64/100\n",
            "20/20 [==============================] - 8s 381ms/step - loss: 0.6473 - accuracy: 0.7844\n",
            "Epoch 65/100\n",
            "20/20 [==============================] - 9s 439ms/step - loss: 0.6133 - accuracy: 0.7906\n",
            "Epoch 66/100\n",
            "20/20 [==============================] - 9s 442ms/step - loss: 0.6460 - accuracy: 0.7703\n",
            "Epoch 67/100\n",
            "20/20 [==============================] - 8s 388ms/step - loss: 0.6222 - accuracy: 0.7922\n",
            "Epoch 68/100\n",
            "20/20 [==============================] - 9s 454ms/step - loss: 0.6349 - accuracy: 0.7914\n",
            "Epoch 69/100\n",
            "20/20 [==============================] - 10s 490ms/step - loss: 0.5940 - accuracy: 0.8031\n",
            "Epoch 70/100\n",
            "20/20 [==============================] - 8s 382ms/step - loss: 0.6045 - accuracy: 0.7849\n",
            "Epoch 71/100\n",
            "20/20 [==============================] - 9s 442ms/step - loss: 0.6630 - accuracy: 0.7766\n",
            "Epoch 72/100\n",
            "20/20 [==============================] - 9s 455ms/step - loss: 0.5948 - accuracy: 0.7984\n",
            "Epoch 73/100\n",
            "20/20 [==============================] - 8s 393ms/step - loss: 0.5674 - accuracy: 0.8016\n",
            "Epoch 74/100\n",
            "20/20 [==============================] - 9s 435ms/step - loss: 0.6187 - accuracy: 0.7805\n",
            "Epoch 75/100\n",
            "20/20 [==============================] - 9s 448ms/step - loss: 0.5932 - accuracy: 0.7992\n",
            "Epoch 76/100\n",
            "20/20 [==============================] - 8s 388ms/step - loss: 0.5707 - accuracy: 0.8102\n",
            "Epoch 77/100\n",
            "20/20 [==============================] - 9s 429ms/step - loss: 0.6091 - accuracy: 0.7820\n",
            "Epoch 78/100\n",
            "20/20 [==============================] - 9s 438ms/step - loss: 0.5487 - accuracy: 0.8203\n",
            "Epoch 79/100\n",
            "20/20 [==============================] - 8s 381ms/step - loss: 0.6176 - accuracy: 0.7859\n",
            "Epoch 80/100\n",
            "20/20 [==============================] - 8s 406ms/step - loss: 0.5695 - accuracy: 0.8031\n",
            "Epoch 81/100\n",
            "20/20 [==============================] - 9s 449ms/step - loss: 0.5711 - accuracy: 0.7961\n",
            "Epoch 82/100\n",
            "20/20 [==============================] - 8s 415ms/step - loss: 0.5617 - accuracy: 0.8148\n",
            "Epoch 83/100\n",
            "20/20 [==============================] - 8s 404ms/step - loss: 0.6232 - accuracy: 0.7820\n",
            "Epoch 84/100\n",
            "20/20 [==============================] - 9s 444ms/step - loss: 0.5696 - accuracy: 0.8156\n",
            "Epoch 85/100\n",
            "20/20 [==============================] - 9s 429ms/step - loss: 0.5677 - accuracy: 0.8039\n",
            "Epoch 86/100\n",
            "20/20 [==============================] - 8s 383ms/step - loss: 0.5511 - accuracy: 0.8078\n",
            "Epoch 87/100\n",
            "20/20 [==============================] - 9s 442ms/step - loss: 0.6029 - accuracy: 0.7914\n",
            "Epoch 88/100\n",
            "20/20 [==============================] - 8s 418ms/step - loss: 0.6040 - accuracy: 0.7987\n",
            "Epoch 89/100\n",
            "20/20 [==============================] - 8s 388ms/step - loss: 0.5566 - accuracy: 0.8086\n",
            "Epoch 90/100\n",
            "20/20 [==============================] - 8s 399ms/step - loss: 0.5288 - accuracy: 0.8086\n",
            "Epoch 91/100\n",
            "20/20 [==============================] - 9s 445ms/step - loss: 0.5553 - accuracy: 0.8141\n",
            "Epoch 92/100\n",
            "20/20 [==============================] - 8s 405ms/step - loss: 0.6187 - accuracy: 0.7859\n",
            "Epoch 93/100\n",
            "20/20 [==============================] - 8s 400ms/step - loss: 0.5342 - accuracy: 0.8203\n",
            "Epoch 94/100\n",
            "20/20 [==============================] - 9s 438ms/step - loss: 0.4963 - accuracy: 0.8242\n",
            "Epoch 95/100\n",
            "20/20 [==============================] - 8s 392ms/step - loss: 0.5644 - accuracy: 0.8141\n",
            "Epoch 96/100\n",
            "20/20 [==============================] - 8s 408ms/step - loss: 0.5793 - accuracy: 0.7922\n",
            "Epoch 97/100\n",
            "20/20 [==============================] - 9s 449ms/step - loss: 0.5245 - accuracy: 0.8219\n",
            "Epoch 98/100\n",
            "20/20 [==============================] - 8s 416ms/step - loss: 0.5277 - accuracy: 0.8141\n",
            "Epoch 99/100\n",
            "20/20 [==============================] - 8s 388ms/step - loss: 0.5164 - accuracy: 0.8211\n",
            "Epoch 100/100\n",
            "20/20 [==============================] - 8s 400ms/step - loss: 0.5222 - accuracy: 0.8214\n"
          ]
        },
        {
          "output_type": "execute_result",
          "data": {
            "text/plain": [
              "<keras.callbacks.History at 0x7f4ed574e5b0>"
            ]
          },
          "metadata": {},
          "execution_count": 7
        }
      ]
    },
    {
      "cell_type": "code",
      "source": [
        "classifier.evaluate_generator(test_set)"
      ],
      "metadata": {
        "colab": {
          "base_uri": "https://localhost:8080/"
        },
        "id": "SlVLJ_nP9_zG",
        "outputId": "8036212c-44bc-4745-ec55-919ac7622536"
      },
      "execution_count": 8,
      "outputs": [
        {
          "output_type": "execute_result",
          "data": {
            "text/plain": [
              "[0.5794369578361511, 0.8169999718666077]"
            ]
          },
          "metadata": {},
          "execution_count": 8
        }
      ]
    },
    {
      "cell_type": "code",
      "source": [
        "from skimage.io import imread\n",
        "from skimage.transform import resize\n",
        "import numpy as np\n",
        "path='/content/drive/MyDrive/tomato/train/Tomato___Bacterial_spot/00416648-be6e-4bd4-bc8d-82f43f8a7240___GCREC_Bact.Sp 3110.JPG'\n",
        "img=imread(path)\n",
        "img=resize(img,(1,128,128,3))\n",
        "res=classifier.predict_generator(img)\n",
        "print(res)\n",
        "decease=['Tomato___Bacterial_spot','Tomato___Early_blight','Tomato___Late_blight','Tomato___Leaf_Mold','Tomato___Septoria_leaf_spot','Tomato___Spider_mites Two-spotted_spider_mite',\n",
        "         'Tomato___Target_Spot','Tomato___Tomato_Yellow_Leaf_Curl_Virus','Tomato___Tomato_mosaic_virus','Tomato___healthy']\n",
        "print('given image belongs to',decease[np.argmax(res)])"
      ],
      "metadata": {
        "colab": {
          "base_uri": "https://localhost:8080/"
        },
        "id": "pdLYKE0Z7uqY",
        "outputId": "892f4900-6dfb-494f-9df6-e91126c6198e"
      },
      "execution_count": 9,
      "outputs": [
        {
          "output_type": "stream",
          "name": "stdout",
          "text": [
            "[[4.5856607e-01 2.0073095e-01 3.0283034e-01 9.1124204e-04 2.2572507e-04\n",
            "  3.6823156e-03 8.8795619e-03 1.2326604e-04 2.6613239e-07 2.4050310e-02]]\n",
            "given image belongs to Tomato___Bacterial_spot\n"
          ]
        }
      ]
    },
    {
      "cell_type": "markdown",
      "source": [
        "**Leaf decease names and there corresponding values**\n",
        "\n",
        "Tomato___Bacterial_spot  ----->   0\n",
        "\n",
        "Tomato___Early_blight    ----->   1\n",
        "\n",
        "Tomato___Late_blight     ----->   2\n",
        "\n",
        "Tomato___Leaf_Mold       ----->   3\n",
        "\n",
        "Tomato___Septoria_leaf_spot    ----->   4\n",
        "\n",
        "Tomato___Spider_mites Two-spotted_spider_mite   ----->   5\n",
        "\n",
        "Tomato___Target_Spot   ----->   6\n",
        "\n",
        "Tomato___Tomato_Yellow_Leaf_Curl_Virus  ----->  7\n",
        "\n",
        "Tomato___Tomato_mosaic_virus   ----->  8\n",
        "\n",
        "Tomato___healthy    -----> 9"
      ],
      "metadata": {
        "id": "OGLL1ocC-gXr"
      }
    }
  ]
}