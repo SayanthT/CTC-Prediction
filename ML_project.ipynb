{
  "nbformat": 4,
  "nbformat_minor": 0,
  "metadata": {
    "colab": {
      "provenance": [],
      "mount_file_id": "1bgXRimDTPdS0IvSpWMkSAwOQWdXC3nb1",
      "authorship_tag": "ABX9TyN1mOhRaecjFG3lJlYHuwra",
      "include_colab_link": true
    },
    "kernelspec": {
      "name": "python3",
      "display_name": "Python 3"
    },
    "language_info": {
      "name": "python"
    }
  },
  "cells": [
    {
      "cell_type": "markdown",
      "metadata": {
        "id": "view-in-github",
        "colab_type": "text"
      },
      "source": [
        "<a href=\"https://colab.research.google.com/github/SayanthT/CTC-Prediction/blob/main/ML_project.ipynb\" target=\"_parent\"><img src=\"https://colab.research.google.com/assets/colab-badge.svg\" alt=\"Open In Colab\"/></a>"
      ]
    },
    {
      "cell_type": "code",
      "execution_count": 63,
      "metadata": {
        "id": "8iyqouyuwggj"
      },
      "outputs": [],
      "source": [
        "import warnings\n",
        "warnings.filterwarnings('ignore') #To ignore warnings\n",
        "import pandas as pd\n",
        "import seaborn as sns\n",
        "import matplotlib.pyplot as plt\n",
        "import numpy as np\n",
        "from sklearn.metrics import r2_score\n"
      ]
    },
    {
      "cell_type": "code",
      "source": [
        "df=pd.read_excel('/content/drive/MyDrive/ML_project/Data_file.xlsx',skiprows=2)\n",
        "df.head()"
      ],
      "metadata": {
        "colab": {
          "base_uri": "https://localhost:8080/",
          "height": 206
        },
        "id": "XgKhQL4HPyOZ",
        "outputId": "331cf9f1-d2cd-4531-ea2d-aa2abc3b0258"
      },
      "execution_count": 64,
      "outputs": [
        {
          "output_type": "execute_result",
          "data": {
            "text/plain": [
              "   S.No. College       Role  City type  Previous CTC  Previous job changes  \\\n",
              "0      1  Tier 1    Manager  Non-Metro         55523                     3   \n",
              "1      2  Tier 2  Executive      Metro         57081                     1   \n",
              "2      3  Tier 2  Executive      Metro         60347                     2   \n",
              "3      4  Tier 3  Executive      Metro         49010                     2   \n",
              "4      5  Tier 3  Executive      Metro         57879                     4   \n",
              "\n",
              "   Graduation marks  Exp (Months)           CTC  \n",
              "0                66            19  71406.576531  \n",
              "1                84            18  68005.870631  \n",
              "2                52            28  76764.020277  \n",
              "3                81            33  82092.386880  \n",
              "4                74            32  73878.097729  "
            ],
            "text/html": [
              "\n",
              "  <div id=\"df-b7f87e56-2b5b-4725-aff3-c030865e597b\">\n",
              "    <div class=\"colab-df-container\">\n",
              "      <div>\n",
              "<style scoped>\n",
              "    .dataframe tbody tr th:only-of-type {\n",
              "        vertical-align: middle;\n",
              "    }\n",
              "\n",
              "    .dataframe tbody tr th {\n",
              "        vertical-align: top;\n",
              "    }\n",
              "\n",
              "    .dataframe thead th {\n",
              "        text-align: right;\n",
              "    }\n",
              "</style>\n",
              "<table border=\"1\" class=\"dataframe\">\n",
              "  <thead>\n",
              "    <tr style=\"text-align: right;\">\n",
              "      <th></th>\n",
              "      <th>S.No.</th>\n",
              "      <th>College</th>\n",
              "      <th>Role</th>\n",
              "      <th>City type</th>\n",
              "      <th>Previous CTC</th>\n",
              "      <th>Previous job changes</th>\n",
              "      <th>Graduation marks</th>\n",
              "      <th>Exp (Months)</th>\n",
              "      <th>CTC</th>\n",
              "    </tr>\n",
              "  </thead>\n",
              "  <tbody>\n",
              "    <tr>\n",
              "      <th>0</th>\n",
              "      <td>1</td>\n",
              "      <td>Tier 1</td>\n",
              "      <td>Manager</td>\n",
              "      <td>Non-Metro</td>\n",
              "      <td>55523</td>\n",
              "      <td>3</td>\n",
              "      <td>66</td>\n",
              "      <td>19</td>\n",
              "      <td>71406.576531</td>\n",
              "    </tr>\n",
              "    <tr>\n",
              "      <th>1</th>\n",
              "      <td>2</td>\n",
              "      <td>Tier 2</td>\n",
              "      <td>Executive</td>\n",
              "      <td>Metro</td>\n",
              "      <td>57081</td>\n",
              "      <td>1</td>\n",
              "      <td>84</td>\n",
              "      <td>18</td>\n",
              "      <td>68005.870631</td>\n",
              "    </tr>\n",
              "    <tr>\n",
              "      <th>2</th>\n",
              "      <td>3</td>\n",
              "      <td>Tier 2</td>\n",
              "      <td>Executive</td>\n",
              "      <td>Metro</td>\n",
              "      <td>60347</td>\n",
              "      <td>2</td>\n",
              "      <td>52</td>\n",
              "      <td>28</td>\n",
              "      <td>76764.020277</td>\n",
              "    </tr>\n",
              "    <tr>\n",
              "      <th>3</th>\n",
              "      <td>4</td>\n",
              "      <td>Tier 3</td>\n",
              "      <td>Executive</td>\n",
              "      <td>Metro</td>\n",
              "      <td>49010</td>\n",
              "      <td>2</td>\n",
              "      <td>81</td>\n",
              "      <td>33</td>\n",
              "      <td>82092.386880</td>\n",
              "    </tr>\n",
              "    <tr>\n",
              "      <th>4</th>\n",
              "      <td>5</td>\n",
              "      <td>Tier 3</td>\n",
              "      <td>Executive</td>\n",
              "      <td>Metro</td>\n",
              "      <td>57879</td>\n",
              "      <td>4</td>\n",
              "      <td>74</td>\n",
              "      <td>32</td>\n",
              "      <td>73878.097729</td>\n",
              "    </tr>\n",
              "  </tbody>\n",
              "</table>\n",
              "</div>\n",
              "      <button class=\"colab-df-convert\" onclick=\"convertToInteractive('df-b7f87e56-2b5b-4725-aff3-c030865e597b')\"\n",
              "              title=\"Convert this dataframe to an interactive table.\"\n",
              "              style=\"display:none;\">\n",
              "        \n",
              "  <svg xmlns=\"http://www.w3.org/2000/svg\" height=\"24px\"viewBox=\"0 0 24 24\"\n",
              "       width=\"24px\">\n",
              "    <path d=\"M0 0h24v24H0V0z\" fill=\"none\"/>\n",
              "    <path d=\"M18.56 5.44l.94 2.06.94-2.06 2.06-.94-2.06-.94-.94-2.06-.94 2.06-2.06.94zm-11 1L8.5 8.5l.94-2.06 2.06-.94-2.06-.94L8.5 2.5l-.94 2.06-2.06.94zm10 10l.94 2.06.94-2.06 2.06-.94-2.06-.94-.94-2.06-.94 2.06-2.06.94z\"/><path d=\"M17.41 7.96l-1.37-1.37c-.4-.4-.92-.59-1.43-.59-.52 0-1.04.2-1.43.59L10.3 9.45l-7.72 7.72c-.78.78-.78 2.05 0 2.83L4 21.41c.39.39.9.59 1.41.59.51 0 1.02-.2 1.41-.59l7.78-7.78 2.81-2.81c.8-.78.8-2.07 0-2.86zM5.41 20L4 18.59l7.72-7.72 1.47 1.35L5.41 20z\"/>\n",
              "  </svg>\n",
              "      </button>\n",
              "      \n",
              "  <style>\n",
              "    .colab-df-container {\n",
              "      display:flex;\n",
              "      flex-wrap:wrap;\n",
              "      gap: 12px;\n",
              "    }\n",
              "\n",
              "    .colab-df-convert {\n",
              "      background-color: #E8F0FE;\n",
              "      border: none;\n",
              "      border-radius: 50%;\n",
              "      cursor: pointer;\n",
              "      display: none;\n",
              "      fill: #1967D2;\n",
              "      height: 32px;\n",
              "      padding: 0 0 0 0;\n",
              "      width: 32px;\n",
              "    }\n",
              "\n",
              "    .colab-df-convert:hover {\n",
              "      background-color: #E2EBFA;\n",
              "      box-shadow: 0px 1px 2px rgba(60, 64, 67, 0.3), 0px 1px 3px 1px rgba(60, 64, 67, 0.15);\n",
              "      fill: #174EA6;\n",
              "    }\n",
              "\n",
              "    [theme=dark] .colab-df-convert {\n",
              "      background-color: #3B4455;\n",
              "      fill: #D2E3FC;\n",
              "    }\n",
              "\n",
              "    [theme=dark] .colab-df-convert:hover {\n",
              "      background-color: #434B5C;\n",
              "      box-shadow: 0px 1px 3px 1px rgba(0, 0, 0, 0.15);\n",
              "      filter: drop-shadow(0px 1px 2px rgba(0, 0, 0, 0.3));\n",
              "      fill: #FFFFFF;\n",
              "    }\n",
              "  </style>\n",
              "\n",
              "      <script>\n",
              "        const buttonEl =\n",
              "          document.querySelector('#df-b7f87e56-2b5b-4725-aff3-c030865e597b button.colab-df-convert');\n",
              "        buttonEl.style.display =\n",
              "          google.colab.kernel.accessAllowed ? 'block' : 'none';\n",
              "\n",
              "        async function convertToInteractive(key) {\n",
              "          const element = document.querySelector('#df-b7f87e56-2b5b-4725-aff3-c030865e597b');\n",
              "          const dataTable =\n",
              "            await google.colab.kernel.invokeFunction('convertToInteractive',\n",
              "                                                     [key], {});\n",
              "          if (!dataTable) return;\n",
              "\n",
              "          const docLinkHtml = 'Like what you see? Visit the ' +\n",
              "            '<a target=\"_blank\" href=https://colab.research.google.com/notebooks/data_table.ipynb>data table notebook</a>'\n",
              "            + ' to learn more about interactive tables.';\n",
              "          element.innerHTML = '';\n",
              "          dataTable['output_type'] = 'display_data';\n",
              "          await google.colab.output.renderOutput(dataTable, element);\n",
              "          const docLink = document.createElement('div');\n",
              "          docLink.innerHTML = docLinkHtml;\n",
              "          element.appendChild(docLink);\n",
              "        }\n",
              "      </script>\n",
              "    </div>\n",
              "  </div>\n",
              "  "
            ]
          },
          "metadata": {},
          "execution_count": 64
        }
      ]
    },
    {
      "cell_type": "markdown",
      "source": [
        "**Checking for null values**"
      ],
      "metadata": {
        "id": "gH3d729fQ7Xp"
      }
    },
    {
      "cell_type": "code",
      "source": [
        "df.isna().sum()"
      ],
      "metadata": {
        "colab": {
          "base_uri": "https://localhost:8080/"
        },
        "id": "Vb-ucnv_1zM9",
        "outputId": "6dd20107-1716-49d1-cb83-b34400436e8d"
      },
      "execution_count": 65,
      "outputs": [
        {
          "output_type": "execute_result",
          "data": {
            "text/plain": [
              "S.No.                   0\n",
              "College                 0\n",
              "Role                    0\n",
              "City type               0\n",
              "Previous CTC            0\n",
              "Previous job changes    0\n",
              "Graduation marks        0\n",
              "Exp (Months)            0\n",
              "CTC                     0\n",
              "dtype: int64"
            ]
          },
          "metadata": {},
          "execution_count": 65
        }
      ]
    },
    {
      "cell_type": "markdown",
      "source": [
        "**Removing column 'S.No'**"
      ],
      "metadata": {
        "id": "XvMPLUOrRQWH"
      }
    },
    {
      "cell_type": "code",
      "source": [
        "df.drop('S.No.',axis=1,inplace=True)"
      ],
      "metadata": {
        "id": "6_erpzyKw3FZ"
      },
      "execution_count": 66,
      "outputs": []
    },
    {
      "cell_type": "code",
      "source": [
        "df.head()"
      ],
      "metadata": {
        "colab": {
          "base_uri": "https://localhost:8080/",
          "height": 206
        },
        "id": "ZmADcJR_xHE_",
        "outputId": "5290629e-1a2b-45a3-93f7-72d80b86d123"
      },
      "execution_count": 67,
      "outputs": [
        {
          "output_type": "execute_result",
          "data": {
            "text/plain": [
              "  College       Role  City type  Previous CTC  Previous job changes  \\\n",
              "0  Tier 1    Manager  Non-Metro         55523                     3   \n",
              "1  Tier 2  Executive      Metro         57081                     1   \n",
              "2  Tier 2  Executive      Metro         60347                     2   \n",
              "3  Tier 3  Executive      Metro         49010                     2   \n",
              "4  Tier 3  Executive      Metro         57879                     4   \n",
              "\n",
              "   Graduation marks  Exp (Months)           CTC  \n",
              "0                66            19  71406.576531  \n",
              "1                84            18  68005.870631  \n",
              "2                52            28  76764.020277  \n",
              "3                81            33  82092.386880  \n",
              "4                74            32  73878.097729  "
            ],
            "text/html": [
              "\n",
              "  <div id=\"df-8108813b-8ff0-4053-b68a-a47fc022d97d\">\n",
              "    <div class=\"colab-df-container\">\n",
              "      <div>\n",
              "<style scoped>\n",
              "    .dataframe tbody tr th:only-of-type {\n",
              "        vertical-align: middle;\n",
              "    }\n",
              "\n",
              "    .dataframe tbody tr th {\n",
              "        vertical-align: top;\n",
              "    }\n",
              "\n",
              "    .dataframe thead th {\n",
              "        text-align: right;\n",
              "    }\n",
              "</style>\n",
              "<table border=\"1\" class=\"dataframe\">\n",
              "  <thead>\n",
              "    <tr style=\"text-align: right;\">\n",
              "      <th></th>\n",
              "      <th>College</th>\n",
              "      <th>Role</th>\n",
              "      <th>City type</th>\n",
              "      <th>Previous CTC</th>\n",
              "      <th>Previous job changes</th>\n",
              "      <th>Graduation marks</th>\n",
              "      <th>Exp (Months)</th>\n",
              "      <th>CTC</th>\n",
              "    </tr>\n",
              "  </thead>\n",
              "  <tbody>\n",
              "    <tr>\n",
              "      <th>0</th>\n",
              "      <td>Tier 1</td>\n",
              "      <td>Manager</td>\n",
              "      <td>Non-Metro</td>\n",
              "      <td>55523</td>\n",
              "      <td>3</td>\n",
              "      <td>66</td>\n",
              "      <td>19</td>\n",
              "      <td>71406.576531</td>\n",
              "    </tr>\n",
              "    <tr>\n",
              "      <th>1</th>\n",
              "      <td>Tier 2</td>\n",
              "      <td>Executive</td>\n",
              "      <td>Metro</td>\n",
              "      <td>57081</td>\n",
              "      <td>1</td>\n",
              "      <td>84</td>\n",
              "      <td>18</td>\n",
              "      <td>68005.870631</td>\n",
              "    </tr>\n",
              "    <tr>\n",
              "      <th>2</th>\n",
              "      <td>Tier 2</td>\n",
              "      <td>Executive</td>\n",
              "      <td>Metro</td>\n",
              "      <td>60347</td>\n",
              "      <td>2</td>\n",
              "      <td>52</td>\n",
              "      <td>28</td>\n",
              "      <td>76764.020277</td>\n",
              "    </tr>\n",
              "    <tr>\n",
              "      <th>3</th>\n",
              "      <td>Tier 3</td>\n",
              "      <td>Executive</td>\n",
              "      <td>Metro</td>\n",
              "      <td>49010</td>\n",
              "      <td>2</td>\n",
              "      <td>81</td>\n",
              "      <td>33</td>\n",
              "      <td>82092.386880</td>\n",
              "    </tr>\n",
              "    <tr>\n",
              "      <th>4</th>\n",
              "      <td>Tier 3</td>\n",
              "      <td>Executive</td>\n",
              "      <td>Metro</td>\n",
              "      <td>57879</td>\n",
              "      <td>4</td>\n",
              "      <td>74</td>\n",
              "      <td>32</td>\n",
              "      <td>73878.097729</td>\n",
              "    </tr>\n",
              "  </tbody>\n",
              "</table>\n",
              "</div>\n",
              "      <button class=\"colab-df-convert\" onclick=\"convertToInteractive('df-8108813b-8ff0-4053-b68a-a47fc022d97d')\"\n",
              "              title=\"Convert this dataframe to an interactive table.\"\n",
              "              style=\"display:none;\">\n",
              "        \n",
              "  <svg xmlns=\"http://www.w3.org/2000/svg\" height=\"24px\"viewBox=\"0 0 24 24\"\n",
              "       width=\"24px\">\n",
              "    <path d=\"M0 0h24v24H0V0z\" fill=\"none\"/>\n",
              "    <path d=\"M18.56 5.44l.94 2.06.94-2.06 2.06-.94-2.06-.94-.94-2.06-.94 2.06-2.06.94zm-11 1L8.5 8.5l.94-2.06 2.06-.94-2.06-.94L8.5 2.5l-.94 2.06-2.06.94zm10 10l.94 2.06.94-2.06 2.06-.94-2.06-.94-.94-2.06-.94 2.06-2.06.94z\"/><path d=\"M17.41 7.96l-1.37-1.37c-.4-.4-.92-.59-1.43-.59-.52 0-1.04.2-1.43.59L10.3 9.45l-7.72 7.72c-.78.78-.78 2.05 0 2.83L4 21.41c.39.39.9.59 1.41.59.51 0 1.02-.2 1.41-.59l7.78-7.78 2.81-2.81c.8-.78.8-2.07 0-2.86zM5.41 20L4 18.59l7.72-7.72 1.47 1.35L5.41 20z\"/>\n",
              "  </svg>\n",
              "      </button>\n",
              "      \n",
              "  <style>\n",
              "    .colab-df-container {\n",
              "      display:flex;\n",
              "      flex-wrap:wrap;\n",
              "      gap: 12px;\n",
              "    }\n",
              "\n",
              "    .colab-df-convert {\n",
              "      background-color: #E8F0FE;\n",
              "      border: none;\n",
              "      border-radius: 50%;\n",
              "      cursor: pointer;\n",
              "      display: none;\n",
              "      fill: #1967D2;\n",
              "      height: 32px;\n",
              "      padding: 0 0 0 0;\n",
              "      width: 32px;\n",
              "    }\n",
              "\n",
              "    .colab-df-convert:hover {\n",
              "      background-color: #E2EBFA;\n",
              "      box-shadow: 0px 1px 2px rgba(60, 64, 67, 0.3), 0px 1px 3px 1px rgba(60, 64, 67, 0.15);\n",
              "      fill: #174EA6;\n",
              "    }\n",
              "\n",
              "    [theme=dark] .colab-df-convert {\n",
              "      background-color: #3B4455;\n",
              "      fill: #D2E3FC;\n",
              "    }\n",
              "\n",
              "    [theme=dark] .colab-df-convert:hover {\n",
              "      background-color: #434B5C;\n",
              "      box-shadow: 0px 1px 3px 1px rgba(0, 0, 0, 0.15);\n",
              "      filter: drop-shadow(0px 1px 2px rgba(0, 0, 0, 0.3));\n",
              "      fill: #FFFFFF;\n",
              "    }\n",
              "  </style>\n",
              "\n",
              "      <script>\n",
              "        const buttonEl =\n",
              "          document.querySelector('#df-8108813b-8ff0-4053-b68a-a47fc022d97d button.colab-df-convert');\n",
              "        buttonEl.style.display =\n",
              "          google.colab.kernel.accessAllowed ? 'block' : 'none';\n",
              "\n",
              "        async function convertToInteractive(key) {\n",
              "          const element = document.querySelector('#df-8108813b-8ff0-4053-b68a-a47fc022d97d');\n",
              "          const dataTable =\n",
              "            await google.colab.kernel.invokeFunction('convertToInteractive',\n",
              "                                                     [key], {});\n",
              "          if (!dataTable) return;\n",
              "\n",
              "          const docLinkHtml = 'Like what you see? Visit the ' +\n",
              "            '<a target=\"_blank\" href=https://colab.research.google.com/notebooks/data_table.ipynb>data table notebook</a>'\n",
              "            + ' to learn more about interactive tables.';\n",
              "          element.innerHTML = '';\n",
              "          dataTable['output_type'] = 'display_data';\n",
              "          await google.colab.output.renderOutput(dataTable, element);\n",
              "          const docLink = document.createElement('div');\n",
              "          docLink.innerHTML = docLinkHtml;\n",
              "          element.appendChild(docLink);\n",
              "        }\n",
              "      </script>\n",
              "    </div>\n",
              "  </div>\n",
              "  "
            ]
          },
          "metadata": {},
          "execution_count": 67
        }
      ]
    },
    {
      "cell_type": "markdown",
      "source": [
        "**Violin plot**\n",
        "\n",
        "It is used to display the distribution of a dataset and to compare multiple distributions.\n",
        "\n",
        "In a violin plot, the shape of the plot resembles that of a violin or a mirrored density plot, with the thicker sections indicating where the data is more concentrated. \n",
        "\n",
        "The plot shows the median (a horizontal line), the  interquartile range (a rectangle), and the range of the data \n",
        "(the \"whiskers\") for each distribution being compared."
      ],
      "metadata": {
        "id": "F9CZ3CfAZlzg"
      }
    },
    {
      "cell_type": "code",
      "source": [
        "sns.violinplot(x='City type',y='CTC',data=df,size=6)\n",
        "plt.show()"
      ],
      "metadata": {
        "colab": {
          "base_uri": "https://localhost:8080/",
          "height": 279
        },
        "id": "iU5S5BLnQ2pr",
        "outputId": "a72b9f0d-5b20-4a9a-cdce-546c8589a353"
      },
      "execution_count": 68,
      "outputs": [
        {
          "output_type": "display_data",
          "data": {
            "text/plain": [
              "<Figure size 432x288 with 1 Axes>"
            ],
            "image/png": "[encoded data removed]"
          },
          "metadata": {
            "needs_background": "light"
          }
        }
      ]
    },
    {
      "cell_type": "code",
      "source": [
        "sns.violinplot(x='Role',y='CTC',data=df,size=6)\n",
        "plt.show()"
      ],
      "metadata": {
        "colab": {
          "base_uri": "https://localhost:8080/",
          "height": 279
        },
        "id": "Hk4pCpHuRS-9",
        "outputId": "bd9c75ac-1aea-4bf0-b021-37daabce888c"
      },
      "execution_count": 69,
      "outputs": [
        {
          "output_type": "display_data",
          "data": {
            "text/plain": [
              "<Figure size 432x288 with 1 Axes>"
            ],
            "image/png": "[encoded data removed]"
          },
          "metadata": {
            "needs_background": "light"
          }
        }
      ]
    },
    {
      "cell_type": "code",
      "source": [
        "sns.violinplot(x='College',y='CTC',data=df,size=6)\n",
        "plt.show()"
      ],
      "metadata": {
        "colab": {
          "base_uri": "https://localhost:8080/",
          "height": 279
        },
        "id": "zmZZXFn_RYTR",
        "outputId": "65fadcb7-f0ae-4dee-eff7-dfaf42ab9108"
      },
      "execution_count": 70,
      "outputs": [
        {
          "output_type": "display_data",
          "data": {
            "text/plain": [
              "<Figure size 432x288 with 1 Axes>"
            ],
            "image/png": "[encoded data removed]"
          },
          "metadata": {
            "needs_background": "light"
          }
        }
      ]
    },
    {
      "cell_type": "code",
      "source": [
        "sns.violinplot(x='Previous job changes',y='CTC',data=df,size=6)\n",
        "plt.show()"
      ],
      "metadata": {
        "colab": {
          "base_uri": "https://localhost:8080/",
          "height": 279
        },
        "id": "aUuFmV7PRp-5",
        "outputId": "da3bec12-e653-44c9-a947-0cfd5c94ada9"
      },
      "execution_count": 71,
      "outputs": [
        {
          "output_type": "display_data",
          "data": {
            "text/plain": [
              "<Figure size 432x288 with 1 Axes>"
            ],
            "image/png": "[encoded data removed]"
          },
          "metadata": {
            "needs_background": "light"
          }
        }
      ]
    },
    {
      "cell_type": "markdown",
      "source": [
        "**Bar plot**\n",
        "\n",
        "A bar plot, also known as a bar chart or column chart, is a type of data visualization that uses rectangular bars to represent the values of a categorical variable.\n",
        "\n",
        "In a bar plot, each category of the variable is represented by a rectangular bar, whose height corresponds to the value or frequency of that category. The bars are usually arranged vertically or horizontally, depending on the orientation of the plot."
      ],
      "metadata": {
        "id": "rKmfmgQ1aUmZ"
      }
    },
    {
      "cell_type": "code",
      "source": [
        "sns.barplot(x='CTC',y='College',data=df)\n",
        "plt.title('RELATION BETWEEN CTC AND COLLEGE TIER', fontsize = 10)\n",
        "plt.show()"
      ],
      "metadata": {
        "colab": {
          "base_uri": "https://localhost:8080/",
          "height": 293
        },
        "id": "hzngbyzwOaBO",
        "outputId": "d658725c-f24e-48a7-8d86-5ad574c7df08"
      },
      "execution_count": 72,
      "outputs": [
        {
          "output_type": "display_data",
          "data": {
            "text/plain": [
              "<Figure size 432x288 with 1 Axes>"
            ],
            "image/png": "[encoded data removed]"
          },
          "metadata": {
            "needs_background": "light"
          }
        }
      ]
    },
    {
      "cell_type": "code",
      "source": [
        "sns.barplot(x='CTC',y='Role',data=df)\n",
        "plt.title('RELATION BETWEEN CTC AND JOB ROLE', fontsize = 10)\n",
        "plt.show()"
      ],
      "metadata": {
        "colab": {
          "base_uri": "https://localhost:8080/",
          "height": 293
        },
        "id": "QtFOoInfOgV7",
        "outputId": "21e669ca-e4d6-4d47-82fa-f7a9be030bcc"
      },
      "execution_count": 73,
      "outputs": [
        {
          "output_type": "display_data",
          "data": {
            "text/plain": [
              "<Figure size 432x288 with 1 Axes>"
            ],
            "image/png": "[encoded data removed]"
          },
          "metadata": {
            "needs_background": "light"
          }
        }
      ]
    },
    {
      "cell_type": "code",
      "source": [
        "sns.barplot(x='CTC',y='City type',data=df)\n",
        "plt.title('RELATION BETWEEN CTC AND CITY TYPE', fontsize = 10)\n",
        "plt.show()"
      ],
      "metadata": {
        "colab": {
          "base_uri": "https://localhost:8080/",
          "height": 293
        },
        "id": "eRwdNhqYOqU5",
        "outputId": "38e45323-23fe-42b4-c13f-08f4958b0a87"
      },
      "execution_count": 74,
      "outputs": [
        {
          "output_type": "display_data",
          "data": {
            "text/plain": [
              "<Figure size 432x288 with 1 Axes>"
            ],
            "image/png": "[encoded data removed]"
          },
          "metadata": {
            "needs_background": "light"
          }
        }
      ]
    },
    {
      "cell_type": "markdown",
      "source": [
        "**LABEL ENCODING**\n",
        "\n",
        "Label encoding is a process of transforming categorical variables into numerical variables so that machine learning algorithms can interpret them. In label encoding, each category of a categorical variable is assigned a unique integer value."
      ],
      "metadata": {
        "id": "NXRT-c_AY2MO"
      }
    },
    {
      "cell_type": "code",
      "source": [
        "from sklearn.preprocessing import LabelEncoder\n",
        "lb=LabelEncoder()\n",
        "df['College']=lb.fit_transform(df['College'])\n",
        "df['Role']=lb.fit_transform(df['Role'])\n",
        "df['City type']=lb.fit_transform(df['City type'])"
      ],
      "metadata": {
        "id": "EDgqLXsHxIr2"
      },
      "execution_count": 75,
      "outputs": []
    },
    {
      "cell_type": "markdown",
      "source": [
        "**LABEL ENCODED DATASET**"
      ],
      "metadata": {
        "id": "zWqt4fG_ZSD4"
      }
    },
    {
      "cell_type": "code",
      "source": [
        "df.head()"
      ],
      "metadata": {
        "colab": {
          "base_uri": "https://localhost:8080/",
          "height": 206
        },
        "id": "07TjRz6h1aHi",
        "outputId": "0aa30c52-abad-403e-b6a5-b040ec9a41bc"
      },
      "execution_count": 76,
      "outputs": [
        {
          "output_type": "execute_result",
          "data": {
            "text/plain": [
              "   College  Role  City type  Previous CTC  Previous job changes  \\\n",
              "0        0     1          1         55523                     3   \n",
              "1        1     0          0         57081                     1   \n",
              "2        1     0          0         60347                     2   \n",
              "3        2     0          0         49010                     2   \n",
              "4        2     0          0         57879                     4   \n",
              "\n",
              "   Graduation marks  Exp (Months)           CTC  \n",
              "0                66            19  71406.576531  \n",
              "1                84            18  68005.870631  \n",
              "2                52            28  76764.020277  \n",
              "3                81            33  82092.386880  \n",
              "4                74            32  73878.097729  "
            ],
            "text/html": [
              "\n",
              "  <div id=\"df-bae0f48c-fc97-4f73-8b40-d4eb3a83eb00\">\n",
              "    <div class=\"colab-df-container\">\n",
              "      <div>\n",
              "<style scoped>\n",
              "    .dataframe tbody tr th:only-of-type {\n",
              "        vertical-align: middle;\n",
              "    }\n",
              "\n",
              "    .dataframe tbody tr th {\n",
              "        vertical-align: top;\n",
              "    }\n",
              "\n",
              "    .dataframe thead th {\n",
              "        text-align: right;\n",
              "    }\n",
              "</style>\n",
              "<table border=\"1\" class=\"dataframe\">\n",
              "  <thead>\n",
              "    <tr style=\"text-align: right;\">\n",
              "      <th></th>\n",
              "      <th>College</th>\n",
              "      <th>Role</th>\n",
              "      <th>City type</th>\n",
              "      <th>Previous CTC</th>\n",
              "      <th>Previous job changes</th>\n",
              "      <th>Graduation marks</th>\n",
              "      <th>Exp (Months)</th>\n",
              "      <th>CTC</th>\n",
              "    </tr>\n",
              "  </thead>\n",
              "  <tbody>\n",
              "    <tr>\n",
              "      <th>0</th>\n",
              "      <td>0</td>\n",
              "      <td>1</td>\n",
              "      <td>1</td>\n",
              "      <td>55523</td>\n",
              "      <td>3</td>\n",
              "      <td>66</td>\n",
              "      <td>19</td>\n",
              "      <td>71406.576531</td>\n",
              "    </tr>\n",
              "    <tr>\n",
              "      <th>1</th>\n",
              "      <td>1</td>\n",
              "      <td>0</td>\n",
              "      <td>0</td>\n",
              "      <td>57081</td>\n",
              "      <td>1</td>\n",
              "      <td>84</td>\n",
              "      <td>18</td>\n",
              "      <td>68005.870631</td>\n",
              "    </tr>\n",
              "    <tr>\n",
              "      <th>2</th>\n",
              "      <td>1</td>\n",
              "      <td>0</td>\n",
              "      <td>0</td>\n",
              "      <td>60347</td>\n",
              "      <td>2</td>\n",
              "      <td>52</td>\n",
              "      <td>28</td>\n",
              "      <td>76764.020277</td>\n",
              "    </tr>\n",
              "    <tr>\n",
              "      <th>3</th>\n",
              "      <td>2</td>\n",
              "      <td>0</td>\n",
              "      <td>0</td>\n",
              "      <td>49010</td>\n",
              "      <td>2</td>\n",
              "      <td>81</td>\n",
              "      <td>33</td>\n",
              "      <td>82092.386880</td>\n",
              "    </tr>\n",
              "    <tr>\n",
              "      <th>4</th>\n",
              "      <td>2</td>\n",
              "      <td>0</td>\n",
              "      <td>0</td>\n",
              "      <td>57879</td>\n",
              "      <td>4</td>\n",
              "      <td>74</td>\n",
              "      <td>32</td>\n",
              "      <td>73878.097729</td>\n",
              "    </tr>\n",
              "  </tbody>\n",
              "</table>\n",
              "</div>\n",
              "      <button class=\"colab-df-convert\" onclick=\"convertToInteractive('df-bae0f48c-fc97-4f73-8b40-d4eb3a83eb00')\"\n",
              "              title=\"Convert this dataframe to an interactive table.\"\n",
              "              style=\"display:none;\">\n",
              "        \n",
              "  <svg xmlns=\"http://www.w3.org/2000/svg\" height=\"24px\"viewBox=\"0 0 24 24\"\n",
              "       width=\"24px\">\n",
              "    <path d=\"M0 0h24v24H0V0z\" fill=\"none\"/>\n",
              "    <path d=\"M18.56 5.44l.94 2.06.94-2.06 2.06-.94-2.06-.94-.94-2.06-.94 2.06-2.06.94zm-11 1L8.5 8.5l.94-2.06 2.06-.94-2.06-.94L8.5 2.5l-.94 2.06-2.06.94zm10 10l.94 2.06.94-2.06 2.06-.94-2.06-.94-.94-2.06-.94 2.06-2.06.94z\"/><path d=\"M17.41 7.96l-1.37-1.37c-.4-.4-.92-.59-1.43-.59-.52 0-1.04.2-1.43.59L10.3 9.45l-7.72 7.72c-.78.78-.78 2.05 0 2.83L4 21.41c.39.39.9.59 1.41.59.51 0 1.02-.2 1.41-.59l7.78-7.78 2.81-2.81c.8-.78.8-2.07 0-2.86zM5.41 20L4 18.59l7.72-7.72 1.47 1.35L5.41 20z\"/>\n",
              "  </svg>\n",
              "      </button>\n",
              "      \n",
              "  <style>\n",
              "    .colab-df-container {\n",
              "      display:flex;\n",
              "      flex-wrap:wrap;\n",
              "      gap: 12px;\n",
              "    }\n",
              "\n",
              "    .colab-df-convert {\n",
              "      background-color: #E8F0FE;\n",
              "      border: none;\n",
              "      border-radius: 50%;\n",
              "      cursor: pointer;\n",
              "      display: none;\n",
              "      fill: #1967D2;\n",
              "      height: 32px;\n",
              "      padding: 0 0 0 0;\n",
              "      width: 32px;\n",
              "    }\n",
              "\n",
              "    .colab-df-convert:hover {\n",
              "      background-color: #E2EBFA;\n",
              "      box-shadow: 0px 1px 2px rgba(60, 64, 67, 0.3), 0px 1px 3px 1px rgba(60, 64, 67, 0.15);\n",
              "      fill: #174EA6;\n",
              "    }\n",
              "\n",
              "    [theme=dark] .colab-df-convert {\n",
              "      background-color: #3B4455;\n",
              "      fill: #D2E3FC;\n",
              "    }\n",
              "\n",
              "    [theme=dark] .colab-df-convert:hover {\n",
              "      background-color: #434B5C;\n",
              "      box-shadow: 0px 1px 3px 1px rgba(0, 0, 0, 0.15);\n",
              "      filter: drop-shadow(0px 1px 2px rgba(0, 0, 0, 0.3));\n",
              "      fill: #FFFFFF;\n",
              "    }\n",
              "  </style>\n",
              "\n",
              "      <script>\n",
              "        const buttonEl =\n",
              "          document.querySelector('#df-bae0f48c-fc97-4f73-8b40-d4eb3a83eb00 button.colab-df-convert');\n",
              "        buttonEl.style.display =\n",
              "          google.colab.kernel.accessAllowed ? 'block' : 'none';\n",
              "\n",
              "        async function convertToInteractive(key) {\n",
              "          const element = document.querySelector('#df-bae0f48c-fc97-4f73-8b40-d4eb3a83eb00');\n",
              "          const dataTable =\n",
              "            await google.colab.kernel.invokeFunction('convertToInteractive',\n",
              "                                                     [key], {});\n",
              "          if (!dataTable) return;\n",
              "\n",
              "          const docLinkHtml = 'Like what you see? Visit the ' +\n",
              "            '<a target=\"_blank\" href=https://colab.research.google.com/notebooks/data_table.ipynb>data table notebook</a>'\n",
              "            + ' to learn more about interactive tables.';\n",
              "          element.innerHTML = '';\n",
              "          dataTable['output_type'] = 'display_data';\n",
              "          await google.colab.output.renderOutput(dataTable, element);\n",
              "          const docLink = document.createElement('div');\n",
              "          docLink.innerHTML = docLinkHtml;\n",
              "          element.appendChild(docLink);\n",
              "        }\n",
              "      </script>\n",
              "    </div>\n",
              "  </div>\n",
              "  "
            ]
          },
          "metadata": {},
          "execution_count": 76
        }
      ]
    },
    {
      "cell_type": "markdown",
      "source": [
        "**CORRELATION BETWEEN FEATURES**"
      ],
      "metadata": {
        "id": "SCgafLMkZiIt"
      }
    },
    {
      "cell_type": "code",
      "source": [
        "df.corr()"
      ],
      "metadata": {
        "colab": {
          "base_uri": "https://localhost:8080/",
          "height": 300
        },
        "id": "xaM8IQ1dypof",
        "outputId": "db1929a0-afe9-4571-f3dc-4f05a17de5e6"
      },
      "execution_count": 77,
      "outputs": [
        {
          "output_type": "execute_result",
          "data": {
            "text/plain": [
              "                       College      Role  City type  Previous CTC  \\\n",
              "College               1.000000 -0.001472   0.002384     -0.016259   \n",
              "Role                 -0.001472  1.000000  -0.076185      0.021208   \n",
              "City type             0.002384 -0.076185   1.000000     -0.036956   \n",
              "Previous CTC         -0.016259  0.021208  -0.036956      1.000000   \n",
              "Previous job changes -0.050243 -0.013131   0.001568      0.008282   \n",
              "Graduation marks     -0.024994  0.014541  -0.018550     -0.037170   \n",
              "Exp (Months)         -0.006760 -0.025019   0.020856      0.117035   \n",
              "CTC                  -0.179152  0.625435  -0.211258      0.270260   \n",
              "\n",
              "                      Previous job changes  Graduation marks  Exp (Months)  \\\n",
              "College                          -0.050243         -0.024994     -0.006760   \n",
              "Role                             -0.013131          0.014541     -0.025019   \n",
              "City type                         0.001568         -0.018550      0.020856   \n",
              "Previous CTC                      0.008282         -0.037170      0.117035   \n",
              "Previous job changes              1.000000          0.001507      0.034137   \n",
              "Graduation marks                  0.001507          1.000000     -0.065412   \n",
              "Exp (Months)                      0.034137         -0.065412      1.000000   \n",
              "CTC                               0.007518         -0.017557      0.301569   \n",
              "\n",
              "                           CTC  \n",
              "College              -0.179152  \n",
              "Role                  0.625435  \n",
              "City type            -0.211258  \n",
              "Previous CTC          0.270260  \n",
              "Previous job changes  0.007518  \n",
              "Graduation marks     -0.017557  \n",
              "Exp (Months)          0.301569  \n",
              "CTC                   1.000000  "
            ],
            "text/html": [
              "\n",
              "  <div id=\"df-991c9e6b-a999-44b2-a4c2-65352022828c\">\n",
              "    <div class=\"colab-df-container\">\n",
              "      <div>\n",
              "<style scoped>\n",
              "    .dataframe tbody tr th:only-of-type {\n",
              "        vertical-align: middle;\n",
              "    }\n",
              "\n",
              "    .dataframe tbody tr th {\n",
              "        vertical-align: top;\n",
              "    }\n",
              "\n",
              "    .dataframe thead th {\n",
              "        text-align: right;\n",
              "    }\n",
              "</style>\n",
              "<table border=\"1\" class=\"dataframe\">\n",
              "  <thead>\n",
              "    <tr style=\"text-align: right;\">\n",
              "      <th></th>\n",
              "      <th>College</th>\n",
              "      <th>Role</th>\n",
              "      <th>City type</th>\n",
              "      <th>Previous CTC</th>\n",
              "      <th>Previous job changes</th>\n",
              "      <th>Graduation marks</th>\n",
              "      <th>Exp (Months)</th>\n",
              "      <th>CTC</th>\n",
              "    </tr>\n",
              "  </thead>\n",
              "  <tbody>\n",
              "    <tr>\n",
              "      <th>College</th>\n",
              "      <td>1.000000</td>\n",
              "      <td>-0.001472</td>\n",
              "      <td>0.002384</td>\n",
              "      <td>-0.016259</td>\n",
              "      <td>-0.050243</td>\n",
              "      <td>-0.024994</td>\n",
              "      <td>-0.006760</td>\n",
              "      <td>-0.179152</td>\n",
              "    </tr>\n",
              "    <tr>\n",
              "      <th>Role</th>\n",
              "      <td>-0.001472</td>\n",
              "      <td>1.000000</td>\n",
              "      <td>-0.076185</td>\n",
              "      <td>0.021208</td>\n",
              "      <td>-0.013131</td>\n",
              "      <td>0.014541</td>\n",
              "      <td>-0.025019</td>\n",
              "      <td>0.625435</td>\n",
              "    </tr>\n",
              "    <tr>\n",
              "      <th>City type</th>\n",
              "      <td>0.002384</td>\n",
              "      <td>-0.076185</td>\n",
              "      <td>1.000000</td>\n",
              "      <td>-0.036956</td>\n",
              "      <td>0.001568</td>\n",
              "      <td>-0.018550</td>\n",
              "      <td>0.020856</td>\n",
              "      <td>-0.211258</td>\n",
              "    </tr>\n",
              "    <tr>\n",
              "      <th>Previous CTC</th>\n",
              "      <td>-0.016259</td>\n",
              "      <td>0.021208</td>\n",
              "      <td>-0.036956</td>\n",
              "      <td>1.000000</td>\n",
              "      <td>0.008282</td>\n",
              "      <td>-0.037170</td>\n",
              "      <td>0.117035</td>\n",
              "      <td>0.270260</td>\n",
              "    </tr>\n",
              "    <tr>\n",
              "      <th>Previous job changes</th>\n",
              "      <td>-0.050243</td>\n",
              "      <td>-0.013131</td>\n",
              "      <td>0.001568</td>\n",
              "      <td>0.008282</td>\n",
              "      <td>1.000000</td>\n",
              "      <td>0.001507</td>\n",
              "      <td>0.034137</td>\n",
              "      <td>0.007518</td>\n",
              "    </tr>\n",
              "    <tr>\n",
              "      <th>Graduation marks</th>\n",
              "      <td>-0.024994</td>\n",
              "      <td>0.014541</td>\n",
              "      <td>-0.018550</td>\n",
              "      <td>-0.037170</td>\n",
              "      <td>0.001507</td>\n",
              "      <td>1.000000</td>\n",
              "      <td>-0.065412</td>\n",
              "      <td>-0.017557</td>\n",
              "    </tr>\n",
              "    <tr>\n",
              "      <th>Exp (Months)</th>\n",
              "      <td>-0.006760</td>\n",
              "      <td>-0.025019</td>\n",
              "      <td>0.020856</td>\n",
              "      <td>0.117035</td>\n",
              "      <td>0.034137</td>\n",
              "      <td>-0.065412</td>\n",
              "      <td>1.000000</td>\n",
              "      <td>0.301569</td>\n",
              "    </tr>\n",
              "    <tr>\n",
              "      <th>CTC</th>\n",
              "      <td>-0.179152</td>\n",
              "      <td>0.625435</td>\n",
              "      <td>-0.211258</td>\n",
              "      <td>0.270260</td>\n",
              "      <td>0.007518</td>\n",
              "      <td>-0.017557</td>\n",
              "      <td>0.301569</td>\n",
              "      <td>1.000000</td>\n",
              "    </tr>\n",
              "  </tbody>\n",
              "</table>\n",
              "</div>\n",
              "      <button class=\"colab-df-convert\" onclick=\"convertToInteractive('df-991c9e6b-a999-44b2-a4c2-65352022828c')\"\n",
              "              title=\"Convert this dataframe to an interactive table.\"\n",
              "              style=\"display:none;\">\n",
              "        \n",
              "  <svg xmlns=\"http://www.w3.org/2000/svg\" height=\"24px\"viewBox=\"0 0 24 24\"\n",
              "       width=\"24px\">\n",
              "    <path d=\"M0 0h24v24H0V0z\" fill=\"none\"/>\n",
              "    <path d=\"M18.56 5.44l.94 2.06.94-2.06 2.06-.94-2.06-.94-.94-2.06-.94 2.06-2.06.94zm-11 1L8.5 8.5l.94-2.06 2.06-.94-2.06-.94L8.5 2.5l-.94 2.06-2.06.94zm10 10l.94 2.06.94-2.06 2.06-.94-2.06-.94-.94-2.06-.94 2.06-2.06.94z\"/><path d=\"M17.41 7.96l-1.37-1.37c-.4-.4-.92-.59-1.43-.59-.52 0-1.04.2-1.43.59L10.3 9.45l-7.72 7.72c-.78.78-.78 2.05 0 2.83L4 21.41c.39.39.9.59 1.41.59.51 0 1.02-.2 1.41-.59l7.78-7.78 2.81-2.81c.8-.78.8-2.07 0-2.86zM5.41 20L4 18.59l7.72-7.72 1.47 1.35L5.41 20z\"/>\n",
              "  </svg>\n",
              "      </button>\n",
              "      \n",
              "  <style>\n",
              "    .colab-df-container {\n",
              "      display:flex;\n",
              "      flex-wrap:wrap;\n",
              "      gap: 12px;\n",
              "    }\n",
              "\n",
              "    .colab-df-convert {\n",
              "      background-color: #E8F0FE;\n",
              "      border: none;\n",
              "      border-radius: 50%;\n",
              "      cursor: pointer;\n",
              "      display: none;\n",
              "      fill: #1967D2;\n",
              "      height: 32px;\n",
              "      padding: 0 0 0 0;\n",
              "      width: 32px;\n",
              "    }\n",
              "\n",
              "    .colab-df-convert:hover {\n",
              "      background-color: #E2EBFA;\n",
              "      box-shadow: 0px 1px 2px rgba(60, 64, 67, 0.3), 0px 1px 3px 1px rgba(60, 64, 67, 0.15);\n",
              "      fill: #174EA6;\n",
              "    }\n",
              "\n",
              "    [theme=dark] .colab-df-convert {\n",
              "      background-color: #3B4455;\n",
              "      fill: #D2E3FC;\n",
              "    }\n",
              "\n",
              "    [theme=dark] .colab-df-convert:hover {\n",
              "      background-color: #434B5C;\n",
              "      box-shadow: 0px 1px 3px 1px rgba(0, 0, 0, 0.15);\n",
              "      filter: drop-shadow(0px 1px 2px rgba(0, 0, 0, 0.3));\n",
              "      fill: #FFFFFF;\n",
              "    }\n",
              "  </style>\n",
              "\n",
              "      <script>\n",
              "        const buttonEl =\n",
              "          document.querySelector('#df-991c9e6b-a999-44b2-a4c2-65352022828c button.colab-df-convert');\n",
              "        buttonEl.style.display =\n",
              "          google.colab.kernel.accessAllowed ? 'block' : 'none';\n",
              "\n",
              "        async function convertToInteractive(key) {\n",
              "          const element = document.querySelector('#df-991c9e6b-a999-44b2-a4c2-65352022828c');\n",
              "          const dataTable =\n",
              "            await google.colab.kernel.invokeFunction('convertToInteractive',\n",
              "                                                     [key], {});\n",
              "          if (!dataTable) return;\n",
              "\n",
              "          const docLinkHtml = 'Like what you see? Visit the ' +\n",
              "            '<a target=\"_blank\" href=https://colab.research.google.com/notebooks/data_table.ipynb>data table notebook</a>'\n",
              "            + ' to learn more about interactive tables.';\n",
              "          element.innerHTML = '';\n",
              "          dataTable['output_type'] = 'display_data';\n",
              "          await google.colab.output.renderOutput(dataTable, element);\n",
              "          const docLink = document.createElement('div');\n",
              "          docLink.innerHTML = docLinkHtml;\n",
              "          element.appendChild(docLink);\n",
              "        }\n",
              "      </script>\n",
              "    </div>\n",
              "  </div>\n",
              "  "
            ]
          },
          "metadata": {},
          "execution_count": 77
        }
      ]
    },
    {
      "cell_type": "markdown",
      "source": [
        "**HEATMAP REPRESENTATION OF CORRELATION BETWEEN DIFFERENT FEATURES**"
      ],
      "metadata": {
        "id": "ObrYvkUJZvHg"
      }
    },
    {
      "cell_type": "code",
      "source": [
        "import matplotlib.pyplot as plt\n",
        "fig, ax = plt.subplots(1, 1, figsize=(15, 9))\n",
        "sns.heatmap(df.corr(),annot=True,cmap=\"viridis\")\n",
        "ax.set(xlabel='features')\n",
        "ax.set(ylabel='features')\n",
        "plt.title('CORRELATION BETWEEN DIFFERENT FEATURES', fontsize = 15)\n",
        "plt.show()"
      ],
      "metadata": {
        "colab": {
          "base_uri": "https://localhost:8080/",
          "height": 665
        },
        "id": "gMCn8s-WS_Pr",
        "outputId": "f16c7037-ff90-4640-e10f-452447fc24dc"
      },
      "execution_count": 78,
      "outputs": [
        {
          "output_type": "display_data",
          "data": {
            "text/plain": [
              "<Figure size 1080x648 with 2 Axes>"
            ],
            "image/png": "[encoded data removed]"
          },
          "metadata": {
            "needs_background": "light"
          }
        }
      ]
    },
    {
      "cell_type": "code",
      "source": [
        "X = df.iloc[:,:-1]\n",
        "y = df.iloc[:,-1]"
      ],
      "metadata": {
        "id": "U2g36XqjW_ir"
      },
      "execution_count": 79,
      "outputs": []
    },
    {
      "cell_type": "markdown",
      "source": [
        "**Standardize features by removing the mean and scaling to unit variance using StandardScaler**"
      ],
      "metadata": {
        "id": "j2vWd3TAav6L"
      }
    },
    {
      "cell_type": "code",
      "source": [
        "from sklearn.preprocessing import StandardScaler\n",
        "sc=StandardScaler()\n",
        "X=sc.fit_transform(X)"
      ],
      "metadata": {
        "id": "rHfQ4_9fdAbn"
      },
      "execution_count": 80,
      "outputs": []
    },
    {
      "cell_type": "markdown",
      "source": [
        "**SPLITTING TRAIN AND TEST DATA**"
      ],
      "metadata": {
        "id": "xqf95xqoarFo"
      }
    },
    {
      "cell_type": "code",
      "source": [
        "from sklearn.model_selection import train_test_split\n",
        "X_train,X_test,Y_train,Y_test=train_test_split(X,y,test_size=0.1,random_state=0)"
      ],
      "metadata": {
        "id": "yrixtScnXBq5"
      },
      "execution_count": 81,
      "outputs": []
    },
    {
      "cell_type": "markdown",
      "source": [
        "**Initializing lists fostoring model names and corresponding r2_score**"
      ],
      "metadata": {
        "id": "t05hRcRwc1CD"
      }
    },
    {
      "cell_type": "code",
      "source": [
        "Models=[]\n",
        "r2_scores=[]"
      ],
      "metadata": {
        "id": "ri0aGNqCno9c"
      },
      "execution_count": 82,
      "outputs": []
    },
    {
      "cell_type": "markdown",
      "source": [
        "LIST OF ALGORITHMS IMPLEMENTED\n",
        "\n",
        "\n",
        "\n",
        "*  RandomForestRegressor\n",
        "*  AdaBoostRegressor\n",
        "*  LinearRegression\n",
        "*  GradientBoostingRegressor\n",
        "*  LGBMRegressor\n",
        "\n",
        "\n",
        "\n",
        "\n",
        "\n",
        "\n",
        "\n"
      ],
      "metadata": {
        "id": "12ZIFjMpdYiI"
      }
    },
    {
      "cell_type": "markdown",
      "source": [
        "**RandomForestRegressor Algorithm**"
      ],
      "metadata": {
        "id": "DAkatpkZekRM"
      }
    },
    {
      "cell_type": "code",
      "source": [
        "from sklearn.ensemble import RandomForestRegressor\n",
        "model1=RandomForestRegressor()\n",
        "model1.fit(X_train,Y_train)\n",
        "y_pred1=model1.predict(X_test)\n",
        "r2s=r2_score(Y_test,y_pred1)\n",
        "r2_scores.append(r2s)\n",
        "Models.append('RandomForestRegressor')\n",
        "print('r2_score of RandomForestRegressor :',r2s)"
      ],
      "metadata": {
        "colab": {
          "base_uri": "https://localhost:8080/"
        },
        "id": "0t7nKeGT3QaJ",
        "outputId": "81bd0ba4-e8d9-4110-9b9c-603fb16ee5aa"
      },
      "execution_count": 83,
      "outputs": [
        {
          "output_type": "stream",
          "name": "stdout",
          "text": [
            "r2_score of RandomForestRegressor : 0.7611159630445732\n"
          ]
        }
      ]
    },
    {
      "cell_type": "markdown",
      "source": [
        "**Sample prediction**"
      ],
      "metadata": {
        "id": "5dhHXz2qmsTX"
      }
    },
    {
      "cell_type": "code",
      "source": [
        "model1.predict(sc.transform([[0,1,1,55523,3,66,19]]))"
      ],
      "metadata": {
        "colab": {
          "base_uri": "https://localhost:8080/"
        },
        "id": "nOTQfxHCOs66",
        "outputId": "f4b7291c-0111-4390-99eb-81c60e9fda93"
      },
      "execution_count": 84,
      "outputs": [
        {
          "output_type": "execute_result",
          "data": {
            "text/plain": [
              "array([77307.82617712])"
            ]
          },
          "metadata": {},
          "execution_count": 84
        }
      ]
    },
    {
      "cell_type": "markdown",
      "source": [
        "**AdaBoostRegressor Algorithm**"
      ],
      "metadata": {
        "id": "Pi7-uIhWeqz9"
      }
    },
    {
      "cell_type": "code",
      "source": [
        "from sklearn.ensemble import AdaBoostRegressor\n",
        "model2=AdaBoostRegressor()\n",
        "model2.fit(X_train,Y_train)\n",
        "y_pred2=model2.predict(X_test)\n",
        "r2s=r2_score(Y_test,y_pred2)\n",
        "r2_scores.append(r2s)\n",
        "Models.append('AdaBoostRegressor')\n",
        "print('r2_score of AdaBoostRegressor :',r2s)"
      ],
      "metadata": {
        "colab": {
          "base_uri": "https://localhost:8080/"
        },
        "id": "1jNm6iHy-vbr",
        "outputId": "89f797cc-8ad1-42e0-cfba-856d652c7fcb"
      },
      "execution_count": 85,
      "outputs": [
        {
          "output_type": "stream",
          "name": "stdout",
          "text": [
            "r2_score of AdaBoostRegressor : 0.7097858032485216\n"
          ]
        }
      ]
    },
    {
      "cell_type": "markdown",
      "source": [
        "**Sample prediction**"
      ],
      "metadata": {
        "id": "ITG3Jef1mtmg"
      }
    },
    {
      "cell_type": "code",
      "source": [
        "model2.predict(sc.transform([[0,1,1,55523,3,66,19]]))"
      ],
      "metadata": {
        "colab": {
          "base_uri": "https://localhost:8080/"
        },
        "id": "LMXZU9duOw7E",
        "outputId": "74a19879-e060-474f-b6d7-11fc26152a63"
      },
      "execution_count": 86,
      "outputs": [
        {
          "output_type": "execute_result",
          "data": {
            "text/plain": [
              "array([89241.92839441])"
            ]
          },
          "metadata": {},
          "execution_count": 86
        }
      ]
    },
    {
      "cell_type": "markdown",
      "source": [
        "**LinearRegression Algorithm**"
      ],
      "metadata": {
        "id": "vmkl6gUder8k"
      }
    },
    {
      "cell_type": "code",
      "source": [
        "from sklearn.linear_model import LinearRegression\n",
        "model3=LinearRegression()\n",
        "model3.fit(X_train,Y_train)\n",
        "y_pred3=model3.predict(X_test)\n",
        "r2s=r2_score(Y_test,y_pred3)\n",
        "r2_scores.append(r2s)\n",
        "Models.append('LinearRegression')\n",
        "print('r2_score of LinearRegressor :',r2s)"
      ],
      "metadata": {
        "colab": {
          "base_uri": "https://localhost:8080/"
        },
        "id": "09UDfzpQ_1Rm",
        "outputId": "b0133594-7108-4387-ea68-53a47a84d3ff"
      },
      "execution_count": 87,
      "outputs": [
        {
          "output_type": "stream",
          "name": "stdout",
          "text": [
            "r2_score of LinearRegressor : 0.7207540276289827\n"
          ]
        }
      ]
    },
    {
      "cell_type": "markdown",
      "source": [
        "**Sample prediction**"
      ],
      "metadata": {
        "id": "-nbbW7gsmusu"
      }
    },
    {
      "cell_type": "code",
      "source": [
        "model3.predict(sc.transform([[0,1,1,55523,3,66,19]]))"
      ],
      "metadata": {
        "colab": {
          "base_uri": "https://localhost:8080/"
        },
        "id": "78wAOpVbO0GQ",
        "outputId": "ee705911-a4b4-4a76-94e8-adc2b8c09f7b"
      },
      "execution_count": 88,
      "outputs": [
        {
          "output_type": "execute_result",
          "data": {
            "text/plain": [
              "array([85035.80326845])"
            ]
          },
          "metadata": {},
          "execution_count": 88
        }
      ]
    },
    {
      "cell_type": "markdown",
      "source": [
        "**GradientBoostingRegressor Algorithm**"
      ],
      "metadata": {
        "id": "GH9yjqKAetHw"
      }
    },
    {
      "cell_type": "code",
      "source": [
        "from sklearn.ensemble import GradientBoostingRegressor\n",
        "model4=GradientBoostingRegressor()\n",
        "model4.fit(X_train,Y_train)\n",
        "y_pred4=model4.predict(X_test)\n",
        "r2s=r2_score(Y_test,y_pred4)\n",
        "r2_scores.append(r2s)\n",
        "Models.append('GradientBoostingRegressor')\n",
        "print('r2_score of GradientBoostingRegressor :',r2s)"
      ],
      "metadata": {
        "colab": {
          "base_uri": "https://localhost:8080/"
        },
        "id": "0Y7UHgXye2GN",
        "outputId": "a5582ef4-d555-43af-a670-1fcfaae01478"
      },
      "execution_count": 89,
      "outputs": [
        {
          "output_type": "stream",
          "name": "stdout",
          "text": [
            "r2_score of GradientBoostingRegressor : 0.7742820430262349\n"
          ]
        }
      ]
    },
    {
      "cell_type": "markdown",
      "source": [
        "**Sample prediction**"
      ],
      "metadata": {
        "id": "dVv8CKPmmw-N"
      }
    },
    {
      "cell_type": "code",
      "source": [
        "model4.predict(sc.transform([[0,1,1,55523,3,66,19]]))"
      ],
      "metadata": {
        "colab": {
          "base_uri": "https://localhost:8080/"
        },
        "id": "sa56mCRRO6uJ",
        "outputId": "1bc56c77-fdf9-41d7-ce0d-b838fd2f64da"
      },
      "execution_count": 90,
      "outputs": [
        {
          "output_type": "execute_result",
          "data": {
            "text/plain": [
              "array([86899.83070163])"
            ]
          },
          "metadata": {},
          "execution_count": 90
        }
      ]
    },
    {
      "cell_type": "markdown",
      "source": [
        "**LGBMRegressor Algorithm**"
      ],
      "metadata": {
        "id": "OSbv-9t7ewnj"
      }
    },
    {
      "cell_type": "code",
      "source": [
        "from lightgbm import LGBMRegressor\n",
        "model5=LGBMRegressor()\n",
        "model5.fit(X_train,Y_train)\n",
        "y_pred5=model5.predict(X_test)\n",
        "r2s=r2_score(Y_test,y_pred5)\n",
        "r2_scores.append(r2s)\n",
        "Models.append('LGBMRegressor')\n",
        "print('r2_score LGBMRegressor :',r2s)"
      ],
      "metadata": {
        "colab": {
          "base_uri": "https://localhost:8080/"
        },
        "id": "mWNLKdDuiihU",
        "outputId": "1fe6c69e-3f93-46ec-ca8c-92327c95e4eb"
      },
      "execution_count": 91,
      "outputs": [
        {
          "output_type": "stream",
          "name": "stdout",
          "text": [
            "r2_score LGBMRegressor : 0.7757972469628748\n"
          ]
        }
      ]
    },
    {
      "cell_type": "markdown",
      "source": [
        "**Sample prediction**"
      ],
      "metadata": {
        "id": "qUspLZg0m1y-"
      }
    },
    {
      "cell_type": "code",
      "source": [
        "model5.predict(sc.transform([[0,1,1,55523,3,66,19]]))"
      ],
      "metadata": {
        "colab": {
          "base_uri": "https://localhost:8080/"
        },
        "id": "wTGlYK1ZPFgI",
        "outputId": "b2996d07-036f-41a4-a5a3-ecbc0207e0fb"
      },
      "execution_count": 92,
      "outputs": [
        {
          "output_type": "execute_result",
          "data": {
            "text/plain": [
              "array([81235.71130042])"
            ]
          },
          "metadata": {},
          "execution_count": 92
        }
      ]
    },
    {
      "cell_type": "markdown",
      "source": [
        "**R2_SCORE COMPARISON**"
      ],
      "metadata": {
        "id": "F0q1Jo1kfQSa"
      }
    },
    {
      "cell_type": "code",
      "source": [
        "plt.figure(figsize=[8,4],dpi=100)\n",
        "plt.title('r2_score Comparison')\n",
        "plt.xlabel('r2_score')\n",
        "plt.ylabel('Algorithm')\n",
        "sns.barplot(x=r2_scores,y=Models,palette='dark')\n",
        "plt.show()"
      ],
      "metadata": {
        "colab": {
          "base_uri": "https://localhost:8080/",
          "height": 404
        },
        "id": "FGBs7OxImKa-",
        "outputId": "10ae9e83-187b-4606-ec48-9d6558b037e4"
      },
      "execution_count": 93,
      "outputs": [
        {
          "output_type": "display_data",
          "data": {
            "text/plain": [
              "<Figure size 800x400 with 1 Axes>"
            ],
            "image/png": "[encoded data removed]"
          },
          "metadata": {
            "needs_background": "light"
          }
        }
      ]
    }
  ]
}